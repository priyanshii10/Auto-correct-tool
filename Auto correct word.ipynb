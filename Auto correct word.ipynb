{
 "cells": [
  {
   "cell_type": "markdown",
   "id": "3354be75",
   "metadata": {},
   "source": [
    "Data Science Tools"
   ]
  },
  {
   "cell_type": "markdown",
   "id": "f5c0b1bd",
   "metadata": {},
   "source": [
    "=> Spelling Checking"
   ]
  },
  {
   "cell_type": "code",
   "execution_count": 1,
   "id": "af054d4d",
   "metadata": {},
   "outputs": [
    {
     "name": "stdout",
     "output_type": "stream",
     "text": [
      "Requirement already satisfied: pyspellchecker in c:\\users\\user\\anaconda3\\lib\\site-packages (0.7.2)\n",
      "Note: you may need to restart the kernel to use updated packages.\n"
     ]
    }
   ],
   "source": [
    "pip install pyspellchecker"
   ]
  },
  {
   "cell_type": "code",
   "execution_count": 2,
   "id": "660fc9ae",
   "metadata": {},
   "outputs": [],
   "source": [
    "from spellchecker import SpellChecker"
   ]
  },
  {
   "cell_type": "code",
   "execution_count": 3,
   "id": "ed91e943",
   "metadata": {},
   "outputs": [
    {
     "data": {
      "text/plain": [
       "['_SpellChecker__edit_distance_alt',\n",
       " '__class__',\n",
       " '__contains__',\n",
       " '__delattr__',\n",
       " '__dir__',\n",
       " '__doc__',\n",
       " '__eq__',\n",
       " '__format__',\n",
       " '__ge__',\n",
       " '__getattribute__',\n",
       " '__getitem__',\n",
       " '__getstate__',\n",
       " '__gt__',\n",
       " '__hash__',\n",
       " '__init__',\n",
       " '__init_subclass__',\n",
       " '__iter__',\n",
       " '__le__',\n",
       " '__lt__',\n",
       " '__module__',\n",
       " '__ne__',\n",
       " '__new__',\n",
       " '__reduce__',\n",
       " '__reduce_ex__',\n",
       " '__repr__',\n",
       " '__setattr__',\n",
       " '__sizeof__',\n",
       " '__slots__',\n",
       " '__str__',\n",
       " '__subclasshook__',\n",
       " '_case_sensitive',\n",
       " '_check_if_should_check',\n",
       " '_distance',\n",
       " '_tokenizer',\n",
       " '_word_frequency',\n",
       " 'candidates',\n",
       " 'correction',\n",
       " 'distance',\n",
       " 'edit_distance_1',\n",
       " 'edit_distance_2',\n",
       " 'export',\n",
       " 'known',\n",
       " 'languages',\n",
       " 'split_words',\n",
       " 'unknown',\n",
       " 'word_frequency',\n",
       " 'word_usage_frequency']"
      ]
     },
     "execution_count": 3,
     "metadata": {},
     "output_type": "execute_result"
    }
   ],
   "source": [
    "dir(SpellChecker)"
   ]
  },
  {
   "cell_type": "code",
   "execution_count": 4,
   "id": "fe13c89c",
   "metadata": {},
   "outputs": [],
   "source": [
    "spell=SpellChecker()"
   ]
  },
  {
   "cell_type": "code",
   "execution_count": 5,
   "id": "1bb77c21",
   "metadata": {},
   "outputs": [],
   "source": [
    "docx=[\"outo\",\"calandar\",\"lightenig\",\"misspel\",\"necessry\",\"bussiness\",\"recieve\",\"adress\"]"
   ]
  },
  {
   "cell_type": "markdown",
   "id": "5c4f518f",
   "metadata": {},
   "source": [
    "Spelling Correction"
   ]
  },
  {
   "cell_type": "code",
   "execution_count": 8,
   "id": "04cf224c",
   "metadata": {},
   "outputs": [
    {
     "name": "stdout",
     "output_type": "stream",
     "text": [
      "outo:out\n",
      "calandar:calendar\n",
      "lightenig:lightening\n",
      "misspel:misspell\n",
      "necessry:necessary\n",
      "bussiness:business\n",
      "recieve:receive\n",
      "adress:dress\n"
     ]
    }
   ],
   "source": [
    "for word in docx:\n",
    "# Get the one `most likely` answer\n",
    "    print(f'{word}:{spell.correction(word)}')\n",
    "\n",
    "    "
   ]
  },
  {
   "cell_type": "markdown",
   "id": "3613629a",
   "metadata": {},
   "source": [
    "Spelling Candidates"
   ]
  },
  {
   "cell_type": "code",
   "execution_count": 9,
   "id": "6e4ea682",
   "metadata": {},
   "outputs": [
    {
     "name": "stdout",
     "output_type": "stream",
     "text": [
      "outo:{'otto', 'ouzo', 'outon', 'puto', 'outl', 'onto', 'outs', 'youto', 'outa', 'orto', 'oto', 'auto', 'out', 'outto', 'outof', 'outdo'}\n",
      "calandar:{'calendar'}\n",
      "lightenig:{'lightening'}\n",
      "misspel:{'misspell'}\n",
      "necessry:{'necessary', 'necessay'}\n",
      "bussiness:{'bussines', 'business'}\n",
      "recieve:{'receive', 'relieve'}\n",
      "adress:{'address', 'dress'}\n"
     ]
    }
   ],
   "source": [
    "for word in docx:\n",
    "    print(f'{word}:{spell.candidates(word)}')"
   ]
  },
  {
   "cell_type": "code",
   "execution_count": 15,
   "id": "a08581dc",
   "metadata": {},
   "outputs": [],
   "source": [
    "myname =\"outo\""
   ]
  },
  {
   "cell_type": "code",
   "execution_count": 16,
   "id": "b5dc7585",
   "metadata": {},
   "outputs": [
    {
     "data": {
      "text/plain": [
       "'out'"
      ]
     },
     "execution_count": 16,
     "metadata": {},
     "output_type": "execute_result"
    }
   ],
   "source": [
    "spell.correction(myname)"
   ]
  },
  {
   "cell_type": "code",
   "execution_count": 19,
   "id": "324832b1",
   "metadata": {},
   "outputs": [
    {
     "data": {
      "text/plain": [
       "{'auto',\n",
       " 'onto',\n",
       " 'orto',\n",
       " 'oto',\n",
       " 'otto',\n",
       " 'out',\n",
       " 'outa',\n",
       " 'outdo',\n",
       " 'outl',\n",
       " 'outof',\n",
       " 'outon',\n",
       " 'outs',\n",
       " 'outto',\n",
       " 'ouzo',\n",
       " 'puto',\n",
       " 'youto'}"
      ]
     },
     "execution_count": 19,
     "metadata": {},
     "output_type": "execute_result"
    }
   ],
   "source": [
    "spell.candidates(myname)"
   ]
  },
  {
   "cell_type": "markdown",
   "id": "d0d7dcc9",
   "metadata": {},
   "source": [
    "Autocorrect"
   ]
  },
  {
   "cell_type": "code",
   "execution_count": 29,
   "id": "b15923c2",
   "metadata": {
    "scrolled": true
   },
   "outputs": [
    {
     "name": "stdout",
     "output_type": "stream",
     "text": [
      "Requirement already satisfied: autocorrect in c:\\users\\user\\anaconda3\\lib\\site-packages (2.6.1)Note: you may need to restart the kernel to use updated packages.\n",
      "\n"
     ]
    }
   ],
   "source": [
    "pip install autocorrect"
   ]
  },
  {
   "cell_type": "code",
   "execution_count": 30,
   "id": "f73496fd",
   "metadata": {},
   "outputs": [],
   "source": [
    "from autocorrect import spell"
   ]
  },
  {
   "cell_type": "code",
   "execution_count": 31,
   "id": "0fd53a9a",
   "metadata": {},
   "outputs": [
    {
     "data": {
      "text/plain": [
       "['outo',\n",
       " 'calandar',\n",
       " 'lightenig',\n",
       " 'misspel',\n",
       " 'necessry',\n",
       " 'bussiness',\n",
       " 'recieve',\n",
       " 'adress']"
      ]
     },
     "execution_count": 31,
     "metadata": {},
     "output_type": "execute_result"
    }
   ],
   "source": [
    "docx"
   ]
  },
  {
   "cell_type": "code",
   "execution_count": 32,
   "id": "1577c35b",
   "metadata": {},
   "outputs": [
    {
     "name": "stdout",
     "output_type": "stream",
     "text": [
      "autocorrect.spell is deprecated,             use autocorrect.Speller instead\n",
      "out\n",
      "autocorrect.spell is deprecated,             use autocorrect.Speller instead\n",
      "calendar\n",
      "autocorrect.spell is deprecated,             use autocorrect.Speller instead\n",
      "lighting\n",
      "autocorrect.spell is deprecated,             use autocorrect.Speller instead\n",
      "missed\n",
      "autocorrect.spell is deprecated,             use autocorrect.Speller instead\n",
      "necessary\n",
      "autocorrect.spell is deprecated,             use autocorrect.Speller instead\n",
      "business\n",
      "autocorrect.spell is deprecated,             use autocorrect.Speller instead\n",
      "receive\n",
      "autocorrect.spell is deprecated,             use autocorrect.Speller instead\n",
      "address\n"
     ]
    }
   ],
   "source": [
    "for word in docx:\n",
    "    print(spell(word))"
   ]
  },
  {
   "cell_type": "markdown",
   "id": "69212f18",
   "metadata": {},
   "source": [
    "Textblob"
   ]
  },
  {
   "cell_type": "code",
   "execution_count": 1,
   "id": "b498b33b",
   "metadata": {},
   "outputs": [
    {
     "name": "stdout",
     "output_type": "stream",
     "text": [
      "Requirement already satisfied: textblob in c:\\users\\user\\anaconda3\\lib\\site-packages (0.17.1)\n",
      "Requirement already satisfied: nltk>=3.1 in c:\\users\\user\\anaconda3\\lib\\site-packages (from textblob) (3.7)\n",
      "Requirement already satisfied: click in c:\\users\\user\\anaconda3\\lib\\site-packages (from nltk>=3.1->textblob) (8.0.4)\n",
      "Requirement already satisfied: joblib in c:\\users\\user\\anaconda3\\lib\\site-packages (from nltk>=3.1->textblob) (1.2.0)\n",
      "Requirement already satisfied: regex>=2021.8.3 in c:\\users\\user\\anaconda3\\lib\\site-packages (from nltk>=3.1->textblob) (2022.7.9)\n",
      "Requirement already satisfied: tqdm in c:\\users\\user\\anaconda3\\lib\\site-packages (from nltk>=3.1->textblob) (4.65.0)\n",
      "Requirement already satisfied: colorama in c:\\users\\user\\anaconda3\\lib\\site-packages (from click->nltk>=3.1->textblob) (0.4.6)\n",
      "Note: you may need to restart the kernel to use updated packages.\n"
     ]
    }
   ],
   "source": [
    "pip install textblob"
   ]
  },
  {
   "cell_type": "code",
   "execution_count": 2,
   "id": "c3b68686",
   "metadata": {},
   "outputs": [],
   "source": [
    "from textblob import TextBlob"
   ]
  },
  {
   "cell_type": "code",
   "execution_count": 3,
   "id": "b041b03b",
   "metadata": {},
   "outputs": [],
   "source": [
    "spell = TextBlob(\"I amm goodd at spelling mstake.\")"
   ]
  },
  {
   "cell_type": "code",
   "execution_count": 4,
   "id": "b4b7f335",
   "metadata": {},
   "outputs": [],
   "source": [
    "# using TextBlob.correct() method\n",
    "spell = spell.correct()"
   ]
  },
  {
   "cell_type": "code",
   "execution_count": 7,
   "id": "61635cc6",
   "metadata": {},
   "outputs": [
    {
     "name": "stdout",
     "output_type": "stream",
     "text": [
      "I am good at spelling mistake.\n"
     ]
    }
   ],
   "source": [
    "print(spell)"
   ]
  },
  {
   "cell_type": "markdown",
   "id": "0e6f8ff3",
   "metadata": {},
   "source": [
    "Example"
   ]
  },
  {
   "cell_type": "code",
   "execution_count": 8,
   "id": "00c90a24",
   "metadata": {},
   "outputs": [],
   "source": [
    "spell=TextBlob(\"I am an outomobile enginner\")"
   ]
  },
  {
   "cell_type": "code",
   "execution_count": 9,
   "id": "2dcdb457",
   "metadata": {},
   "outputs": [],
   "source": [
    "spell=spell.correct()"
   ]
  },
  {
   "cell_type": "code",
   "execution_count": 10,
   "id": "3d90ad94",
   "metadata": {},
   "outputs": [
    {
     "name": "stdout",
     "output_type": "stream",
     "text": [
      "I am an automobile engineer\n"
     ]
    }
   ],
   "source": [
    "print(spell)"
   ]
  },
  {
   "cell_type": "code",
   "execution_count": null,
   "id": "4fe361ef",
   "metadata": {},
   "outputs": [],
   "source": []
  },
  {
   "cell_type": "code",
   "execution_count": null,
   "id": "de4f1875",
   "metadata": {},
   "outputs": [],
   "source": []
  },
  {
   "cell_type": "code",
   "execution_count": null,
   "id": "9f57ea87",
   "metadata": {},
   "outputs": [],
   "source": []
  }
 ],
 "metadata": {
  "kernelspec": {
   "display_name": "Python 3 (ipykernel)",
   "language": "python",
   "name": "python3"
  },
  "language_info": {
   "codemirror_mode": {
    "name": "ipython",
    "version": 3
   },
   "file_extension": ".py",
   "mimetype": "text/x-python",
   "name": "python",
   "nbconvert_exporter": "python",
   "pygments_lexer": "ipython3",
   "version": "3.11.3"
  }
 },
 "nbformat": 4,
 "nbformat_minor": 5
}
